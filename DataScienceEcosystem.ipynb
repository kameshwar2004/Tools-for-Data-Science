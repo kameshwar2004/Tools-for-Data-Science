{
 "cells": [
  {
   "cell_type": "markdown",
   "id": "4bf62a78-129a-40ba-b373-2e76f186c146",
   "metadata": {},
   "source": [
    "# Data Science Tools and Ecosystem"
   ]
  },
  {
   "cell_type": "markdown",
   "id": "12c3798b-eede-4398-8d7d-a1d0833f43d3",
   "metadata": {},
   "source": [
    "In this notebook, Data Science Tools and Ecosystem are summarized."
   ]
  },
  {
   "cell_type": "markdown",
   "id": "6f8074bc-333e-494f-a929-9880206cbc13",
   "metadata": {},
   "source": [
    "Some of the popular languages that Data Scientists use are:\n",
    "1. Python\n",
    "2. R\n",
    "3. SQL\n",
    "4. Java\n",
    "5. Julia\n",
    "6. Scala"
   ]
  },
  {
   "cell_type": "markdown",
   "id": "7a285482-1895-45a8-aad7-109c71c02fe1",
   "metadata": {},
   "source": [
    "Some of the commonly used libraries used by Data Scientists include:"
   ]
  },
  {
   "cell_type": "markdown",
   "id": "9f425b5f-a000-43d9-80fd-f6e2668eef3e",
   "metadata": {},
   "source": [
    "1. Pandas\n",
    "2. NumPy\n",
    "3. Matplotlib\n",
    "4. Plotly\n",
    "5. PyTorch\n",
    "6. SciPy\n",
    "7. SciKit-Learn\n",
    "8. PyBrain"
   ]
  },
  {
   "cell_type": "markdown",
   "id": "bf644606-118a-454d-b789-6ff01907a1f0",
   "metadata": {},
   "source": [
    "|Data Science Tools|\n",
    "|----|\n",
    "|MongoDB|\n",
    "|Apache SparkSQL|\n",
    "|TensorFlow|\n",
    "|NumPy|\n",
    "|Pandas|\n",
    "|PyTorch|"
   ]
  },
  {
   "cell_type": "markdown",
   "id": "415b47e3-d816-4292-b607-676ca20d5a92",
   "metadata": {},
   "source": [
    "### Below are a few examples of evaluating arithmetic expressions in Python."
   ]
  },
  {
   "cell_type": "code",
   "execution_count": 38,
   "id": "3dee4c8f-b136-4cac-a041-8632764bbb31",
   "metadata": {},
   "outputs": [
    {
     "data": {
      "text/plain": [
       "17"
      ]
     },
     "execution_count": 38,
     "metadata": {},
     "output_type": "execute_result"
    }
   ],
   "source": [
    "## This a simple arithmetic expression to mutiply then add integers\n",
    "(3*4)+5"
   ]
  },
  {
   "cell_type": "code",
   "execution_count": 41,
   "id": "e00f9c7b-d2c5-485d-8bfc-3761f5040b39",
   "metadata": {},
   "outputs": [
    {
     "data": {
      "text/plain": [
       "3.3333333333333335"
      ]
     },
     "execution_count": 41,
     "metadata": {},
     "output_type": "execute_result"
    }
   ],
   "source": [
    "## This will convert 200 minutes to hours by diving by 60\n",
    "200/60"
   ]
  },
  {
   "cell_type": "markdown",
   "id": "12c8ebbd-2929-47b8-8227-ad1ddcac9868",
   "metadata": {},
   "source": [
    "__Objectives:__\n",
    "\n",
    "* List popular languages for Data Science\n",
    "* List popular libraries for Data Science\n",
    "* List Data Science Tools\n",
    "* How to write code comments        "
   ]
  },
  {
   "cell_type": "markdown",
   "id": "e926fdeb-373c-4c78-99d9-82def86c186f",
   "metadata": {},
   "source": [
    "## Author:\n",
    "Kameshwar Singh"
   ]
  }
 ],
 "metadata": {
  "kernelspec": {
   "display_name": "Python 3 (ipykernel)",
   "language": "python",
   "name": "python3"
  },
  "language_info": {
   "codemirror_mode": {
    "name": "ipython",
    "version": 3
   },
   "file_extension": ".py",
   "mimetype": "text/x-python",
   "name": "python",
   "nbconvert_exporter": "python",
   "pygments_lexer": "ipython3",
   "version": "3.12.4"
  }
 },
 "nbformat": 4,
 "nbformat_minor": 5
}
